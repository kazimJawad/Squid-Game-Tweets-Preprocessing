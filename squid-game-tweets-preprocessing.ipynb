{
 "cells": [
  {
   "cell_type": "code",
   "execution_count": 1,
   "id": "068ee59a",
   "metadata": {
    "_cell_guid": "b1076dfc-b9ad-4769-8c92-a6c4dae69d19",
    "_uuid": "8f2839f25d086af736a60e9eeb907d3b93b6e0e5",
    "execution": {
     "iopub.execute_input": "2022-09-05T10:26:33.477506Z",
     "iopub.status.busy": "2022-09-05T10:26:33.477064Z",
     "iopub.status.idle": "2022-09-05T10:26:35.414587Z",
     "shell.execute_reply": "2022-09-05T10:26:35.413566Z"
    },
    "papermill": {
     "duration": 1.947993,
     "end_time": "2022-09-05T10:26:35.417795",
     "exception": false,
     "start_time": "2022-09-05T10:26:33.469802",
     "status": "completed"
    },
    "tags": []
   },
   "outputs": [],
   "source": [
    "import pandas as pd\n",
    "import textblob \n",
    "from textblob import TextBlob\n",
    "import matplotlib.pyplot as plt\n",
    "import re\n",
    "import nltk\n",
    "from nltk.corpus import stopwords\n",
    "from wordcloud import WordCloud "
   ]
  },
  {
   "cell_type": "code",
   "execution_count": 2,
   "id": "77fa50d0",
   "metadata": {
    "execution": {
     "iopub.execute_input": "2022-09-05T10:26:35.428916Z",
     "iopub.status.busy": "2022-09-05T10:26:35.428151Z",
     "iopub.status.idle": "2022-09-05T10:26:36.477178Z",
     "shell.execute_reply": "2022-09-05T10:26:36.476105Z"
    },
    "papermill": {
     "duration": 1.05748,
     "end_time": "2022-09-05T10:26:36.479945",
     "exception": false,
     "start_time": "2022-09-05T10:26:35.422465",
     "status": "completed"
    },
    "tags": []
   },
   "outputs": [],
   "source": [
    "df = pd.read_csv('../input/squid-games-tweets-dataset-for-preprocessing/tweet.csv')"
   ]
  },
  {
   "cell_type": "code",
   "execution_count": 3,
   "id": "05ac9052",
   "metadata": {
    "execution": {
     "iopub.execute_input": "2022-09-05T10:26:36.490320Z",
     "iopub.status.busy": "2022-09-05T10:26:36.489930Z",
     "iopub.status.idle": "2022-09-05T10:26:36.547642Z",
     "shell.execute_reply": "2022-09-05T10:26:36.546701Z"
    },
    "papermill": {
     "duration": 0.065997,
     "end_time": "2022-09-05T10:26:36.550342",
     "exception": false,
     "start_time": "2022-09-05T10:26:36.484345",
     "status": "completed"
    },
    "tags": []
   },
   "outputs": [
    {
     "data": {
      "text/html": [
       "<div>\n",
       "<style scoped>\n",
       "    .dataframe tbody tr th:only-of-type {\n",
       "        vertical-align: middle;\n",
       "    }\n",
       "\n",
       "    .dataframe tbody tr th {\n",
       "        vertical-align: top;\n",
       "    }\n",
       "\n",
       "    .dataframe thead th {\n",
       "        text-align: right;\n",
       "    }\n",
       "</style>\n",
       "<table border=\"1\" class=\"dataframe\">\n",
       "  <thead>\n",
       "    <tr style=\"text-align: right;\">\n",
       "      <th></th>\n",
       "      <th>user_followers</th>\n",
       "      <th>user_friends</th>\n",
       "      <th>user_favourites</th>\n",
       "    </tr>\n",
       "  </thead>\n",
       "  <tbody>\n",
       "    <tr>\n",
       "      <th>count</th>\n",
       "      <td>8.001900e+04</td>\n",
       "      <td>8.001900e+04</td>\n",
       "      <td>8.001900e+04</td>\n",
       "    </tr>\n",
       "    <tr>\n",
       "      <th>mean</th>\n",
       "      <td>1.794587e+04</td>\n",
       "      <td>1.071020e+03</td>\n",
       "      <td>1.796449e+04</td>\n",
       "    </tr>\n",
       "    <tr>\n",
       "      <th>std</th>\n",
       "      <td>2.451159e+05</td>\n",
       "      <td>6.751348e+03</td>\n",
       "      <td>4.850358e+04</td>\n",
       "    </tr>\n",
       "    <tr>\n",
       "      <th>min</th>\n",
       "      <td>0.000000e+00</td>\n",
       "      <td>0.000000e+00</td>\n",
       "      <td>0.000000e+00</td>\n",
       "    </tr>\n",
       "    <tr>\n",
       "      <th>25%</th>\n",
       "      <td>6.200000e+01</td>\n",
       "      <td>1.180000e+02</td>\n",
       "      <td>4.420000e+02</td>\n",
       "    </tr>\n",
       "    <tr>\n",
       "      <th>50%</th>\n",
       "      <td>2.910000e+02</td>\n",
       "      <td>3.930000e+02</td>\n",
       "      <td>3.028000e+03</td>\n",
       "    </tr>\n",
       "    <tr>\n",
       "      <th>75%</th>\n",
       "      <td>1.183000e+03</td>\n",
       "      <td>9.860000e+02</td>\n",
       "      <td>1.494000e+04</td>\n",
       "    </tr>\n",
       "    <tr>\n",
       "      <th>max</th>\n",
       "      <td>1.684642e+07</td>\n",
       "      <td>1.211576e+06</td>\n",
       "      <td>1.144792e+06</td>\n",
       "    </tr>\n",
       "  </tbody>\n",
       "</table>\n",
       "</div>"
      ],
      "text/plain": [
       "       user_followers  user_friends  user_favourites\n",
       "count    8.001900e+04  8.001900e+04     8.001900e+04\n",
       "mean     1.794587e+04  1.071020e+03     1.796449e+04\n",
       "std      2.451159e+05  6.751348e+03     4.850358e+04\n",
       "min      0.000000e+00  0.000000e+00     0.000000e+00\n",
       "25%      6.200000e+01  1.180000e+02     4.420000e+02\n",
       "50%      2.910000e+02  3.930000e+02     3.028000e+03\n",
       "75%      1.183000e+03  9.860000e+02     1.494000e+04\n",
       "max      1.684642e+07  1.211576e+06     1.144792e+06"
      ]
     },
     "execution_count": 3,
     "metadata": {},
     "output_type": "execute_result"
    }
   ],
   "source": [
    "df.describe()"
   ]
  },
  {
   "cell_type": "code",
   "execution_count": 4,
   "id": "e9c4a33c",
   "metadata": {
    "execution": {
     "iopub.execute_input": "2022-09-05T10:26:36.562315Z",
     "iopub.status.busy": "2022-09-05T10:26:36.561527Z",
     "iopub.status.idle": "2022-09-05T10:26:36.568694Z",
     "shell.execute_reply": "2022-09-05T10:26:36.567773Z"
    },
    "papermill": {
     "duration": 0.015853,
     "end_time": "2022-09-05T10:26:36.571084",
     "exception": false,
     "start_time": "2022-09-05T10:26:36.555231",
     "status": "completed"
    },
    "tags": []
   },
   "outputs": [
    {
     "data": {
      "text/plain": [
       "(80019, 12)"
      ]
     },
     "execution_count": 4,
     "metadata": {},
     "output_type": "execute_result"
    }
   ],
   "source": [
    "df.shape"
   ]
  },
  {
   "cell_type": "code",
   "execution_count": 5,
   "id": "e65b87ce",
   "metadata": {
    "execution": {
     "iopub.execute_input": "2022-09-05T10:26:36.582157Z",
     "iopub.status.busy": "2022-09-05T10:26:36.581727Z",
     "iopub.status.idle": "2022-09-05T10:26:37.953145Z",
     "shell.execute_reply": "2022-09-05T10:26:37.952313Z"
    },
    "papermill": {
     "duration": 1.37996,
     "end_time": "2022-09-05T10:26:37.955785",
     "exception": false,
     "start_time": "2022-09-05T10:26:36.575825",
     "status": "completed"
    },
    "tags": []
   },
   "outputs": [
    {
     "data": {
      "text/html": [
       "<div>\n",
       "<style scoped>\n",
       "    .dataframe tbody tr th:only-of-type {\n",
       "        vertical-align: middle;\n",
       "    }\n",
       "\n",
       "    .dataframe tbody tr th {\n",
       "        vertical-align: top;\n",
       "    }\n",
       "\n",
       "    .dataframe thead th {\n",
       "        text-align: right;\n",
       "    }\n",
       "</style>\n",
       "<table border=\"1\" class=\"dataframe\">\n",
       "  <thead>\n",
       "    <tr style=\"text-align: right;\">\n",
       "      <th></th>\n",
       "      <th>user_name</th>\n",
       "      <th>user_location</th>\n",
       "      <th>user_description</th>\n",
       "      <th>user_created</th>\n",
       "      <th>user_followers</th>\n",
       "      <th>user_friends</th>\n",
       "      <th>user_favourites</th>\n",
       "      <th>user_verified</th>\n",
       "      <th>date</th>\n",
       "      <th>text</th>\n",
       "      <th>source</th>\n",
       "      <th>is_retweet</th>\n",
       "    </tr>\n",
       "  </thead>\n",
       "  <tbody>\n",
       "    <tr>\n",
       "      <th>0</th>\n",
       "      <td>the _ndr-ratd niggh</td>\n",
       "      <td>nan</td>\n",
       "      <td>@ManUtd die hard\\n\\n\\nYOLO\\n\\n\\nJ'ai besoin de...</td>\n",
       "      <td>2019-09-06 19:24:57+00:00</td>\n",
       "      <td>581</td>\n",
       "      <td>1035</td>\n",
       "      <td>8922</td>\n",
       "      <td>False</td>\n",
       "      <td>2021-10-06 12:05:38+00:00</td>\n",
       "      <td>When life hits and the same time poverty strik...</td>\n",
       "      <td>Twitter for Android</td>\n",
       "      <td>False</td>\n",
       "    </tr>\n",
       "    <tr>\n",
       "      <th>1</th>\n",
       "      <td>Best uncle on planet earth</td>\n",
       "      <td>nan</td>\n",
       "      <td>nan</td>\n",
       "      <td>2013-05-08 19:35:26+00:00</td>\n",
       "      <td>741</td>\n",
       "      <td>730</td>\n",
       "      <td>8432</td>\n",
       "      <td>False</td>\n",
       "      <td>2021-10-06 12:05:22+00:00</td>\n",
       "      <td>That marble episode of #SquidGame  ruined me.</td>\n",
       "      <td>Twitter for Android</td>\n",
       "      <td>False</td>\n",
       "    </tr>\n",
       "    <tr>\n",
       "      <th>2</th>\n",
       "      <td>marcie</td>\n",
       "      <td>nan</td>\n",
       "      <td>animal crossing. chicken nuggets. baby yoda. s...</td>\n",
       "      <td>2009-02-21 10:31:30+00:00</td>\n",
       "      <td>562</td>\n",
       "      <td>1197</td>\n",
       "      <td>62732</td>\n",
       "      <td>False</td>\n",
       "      <td>2021-10-06 12:05:22+00:00</td>\n",
       "      <td>#Squidgame time</td>\n",
       "      <td>Twitter Web App</td>\n",
       "      <td>False</td>\n",
       "    </tr>\n",
       "    <tr>\n",
       "      <th>3</th>\n",
       "      <td>YoMo.Mdp</td>\n",
       "      <td>Any pronouns</td>\n",
       "      <td>Where the heck is the karma\\nI'm going on my s...</td>\n",
       "      <td>2021-02-14 13:21:22+00:00</td>\n",
       "      <td>3</td>\n",
       "      <td>277</td>\n",
       "      <td>1341</td>\n",
       "      <td>False</td>\n",
       "      <td>2021-10-06 12:05:04+00:00</td>\n",
       "      <td>//Blood on 1st slide\\nI'm joining the squidgam...</td>\n",
       "      <td>Twitter Web App</td>\n",
       "      <td>False</td>\n",
       "    </tr>\n",
       "    <tr>\n",
       "      <th>4</th>\n",
       "      <td>Laura Reactions</td>\n",
       "      <td>France</td>\n",
       "      <td>I talk and I make reactions videos about shows...</td>\n",
       "      <td>2018-12-19 20:38:28+00:00</td>\n",
       "      <td>330</td>\n",
       "      <td>152</td>\n",
       "      <td>2278</td>\n",
       "      <td>False</td>\n",
       "      <td>2021-10-06 12:05:00+00:00</td>\n",
       "      <td>The two first games, players were killed by th...</td>\n",
       "      <td>Twitter Web App</td>\n",
       "      <td>False</td>\n",
       "    </tr>\n",
       "  </tbody>\n",
       "</table>\n",
       "</div>"
      ],
      "text/plain": [
       "                    user_name  user_location  \\\n",
       "0         the _ndr-ratd niggh            nan   \n",
       "1  Best uncle on planet earth            nan   \n",
       "2                      marcie            nan   \n",
       "3                    YoMo.Mdp  Any pronouns    \n",
       "4             Laura Reactions         France   \n",
       "\n",
       "                                    user_description  \\\n",
       "0  @ManUtd die hard\\n\\n\\nYOLO\\n\\n\\nJ'ai besoin de...   \n",
       "1                                                nan   \n",
       "2  animal crossing. chicken nuggets. baby yoda. s...   \n",
       "3  Where the heck is the karma\\nI'm going on my s...   \n",
       "4  I talk and I make reactions videos about shows...   \n",
       "\n",
       "                user_created user_followers user_friends user_favourites  \\\n",
       "0  2019-09-06 19:24:57+00:00            581         1035            8922   \n",
       "1  2013-05-08 19:35:26+00:00            741          730            8432   \n",
       "2  2009-02-21 10:31:30+00:00            562         1197           62732   \n",
       "3  2021-02-14 13:21:22+00:00              3          277            1341   \n",
       "4  2018-12-19 20:38:28+00:00            330          152            2278   \n",
       "\n",
       "  user_verified                       date  \\\n",
       "0         False  2021-10-06 12:05:38+00:00   \n",
       "1         False  2021-10-06 12:05:22+00:00   \n",
       "2         False  2021-10-06 12:05:22+00:00   \n",
       "3         False  2021-10-06 12:05:04+00:00   \n",
       "4         False  2021-10-06 12:05:00+00:00   \n",
       "\n",
       "                                                text               source  \\\n",
       "0  When life hits and the same time poverty strik...  Twitter for Android   \n",
       "1     That marble episode of #SquidGame  ruined me.   Twitter for Android   \n",
       "2                                    #Squidgame time      Twitter Web App   \n",
       "3  //Blood on 1st slide\\nI'm joining the squidgam...      Twitter Web App   \n",
       "4  The two first games, players were killed by th...      Twitter Web App   \n",
       "\n",
       "  is_retweet  \n",
       "0      False  \n",
       "1      False  \n",
       "2      False  \n",
       "3      False  \n",
       "4      False  "
      ]
     },
     "execution_count": 5,
     "metadata": {},
     "output_type": "execute_result"
    }
   ],
   "source": [
    "# Removing emoji's\n",
    "df = df.astype(str).apply(lambda x: x.str.encode('ascii', 'ignore').str.decode('ascii'))\n",
    "df.head()"
   ]
  },
  {
   "cell_type": "code",
   "execution_count": 6,
   "id": "cc7b59d7",
   "metadata": {
    "execution": {
     "iopub.execute_input": "2022-09-05T10:26:37.968932Z",
     "iopub.status.busy": "2022-09-05T10:26:37.968284Z",
     "iopub.status.idle": "2022-09-05T10:27:22.880313Z",
     "shell.execute_reply": "2022-09-05T10:27:22.878925Z"
    },
    "papermill": {
     "duration": 44.927206,
     "end_time": "2022-09-05T10:27:22.888855",
     "exception": false,
     "start_time": "2022-09-05T10:26:37.961649",
     "status": "completed"
    },
    "tags": []
   },
   "outputs": [
    {
     "data": {
      "text/html": [
       "<div>\n",
       "<style scoped>\n",
       "    .dataframe tbody tr th:only-of-type {\n",
       "        vertical-align: middle;\n",
       "    }\n",
       "\n",
       "    .dataframe tbody tr th {\n",
       "        vertical-align: top;\n",
       "    }\n",
       "\n",
       "    .dataframe thead th {\n",
       "        text-align: right;\n",
       "    }\n",
       "</style>\n",
       "<table border=\"1\" class=\"dataframe\">\n",
       "  <thead>\n",
       "    <tr style=\"text-align: right;\">\n",
       "      <th></th>\n",
       "      <th>user_name</th>\n",
       "      <th>user_location</th>\n",
       "      <th>user_description</th>\n",
       "      <th>user_created</th>\n",
       "      <th>user_followers</th>\n",
       "      <th>user_friends</th>\n",
       "      <th>user_favourites</th>\n",
       "      <th>user_verified</th>\n",
       "      <th>date</th>\n",
       "      <th>text</th>\n",
       "      <th>source</th>\n",
       "      <th>is_retweet</th>\n",
       "      <th>polarity</th>\n",
       "      <th>subjectivity</th>\n",
       "    </tr>\n",
       "  </thead>\n",
       "  <tbody>\n",
       "    <tr>\n",
       "      <th>0</th>\n",
       "      <td>the _ndr-ratd niggh</td>\n",
       "      <td>nan</td>\n",
       "      <td>@ManUtd die hard\\n\\n\\nYOLO\\n\\n\\nJ'ai besoin de...</td>\n",
       "      <td>2019-09-06 19:24:57+00:00</td>\n",
       "      <td>581</td>\n",
       "      <td>1035</td>\n",
       "      <td>8922</td>\n",
       "      <td>False</td>\n",
       "      <td>2021-10-06 12:05:38+00:00</td>\n",
       "      <td>When life hits and the same time poverty strik...</td>\n",
       "      <td>Twitter for Android</td>\n",
       "      <td>False</td>\n",
       "      <td>-0.200</td>\n",
       "      <td>0.262500</td>\n",
       "    </tr>\n",
       "    <tr>\n",
       "      <th>1</th>\n",
       "      <td>Best uncle on planet earth</td>\n",
       "      <td>nan</td>\n",
       "      <td>nan</td>\n",
       "      <td>2013-05-08 19:35:26+00:00</td>\n",
       "      <td>741</td>\n",
       "      <td>730</td>\n",
       "      <td>8432</td>\n",
       "      <td>False</td>\n",
       "      <td>2021-10-06 12:05:22+00:00</td>\n",
       "      <td>That marble episode of #SquidGame  ruined me.</td>\n",
       "      <td>Twitter for Android</td>\n",
       "      <td>False</td>\n",
       "      <td>0.000</td>\n",
       "      <td>0.000000</td>\n",
       "    </tr>\n",
       "    <tr>\n",
       "      <th>2</th>\n",
       "      <td>marcie</td>\n",
       "      <td>nan</td>\n",
       "      <td>animal crossing. chicken nuggets. baby yoda. s...</td>\n",
       "      <td>2009-02-21 10:31:30+00:00</td>\n",
       "      <td>562</td>\n",
       "      <td>1197</td>\n",
       "      <td>62732</td>\n",
       "      <td>False</td>\n",
       "      <td>2021-10-06 12:05:22+00:00</td>\n",
       "      <td>#Squidgame time</td>\n",
       "      <td>Twitter Web App</td>\n",
       "      <td>False</td>\n",
       "      <td>0.000</td>\n",
       "      <td>0.000000</td>\n",
       "    </tr>\n",
       "    <tr>\n",
       "      <th>3</th>\n",
       "      <td>YoMo.Mdp</td>\n",
       "      <td>Any pronouns</td>\n",
       "      <td>Where the heck is the karma\\nI'm going on my s...</td>\n",
       "      <td>2021-02-14 13:21:22+00:00</td>\n",
       "      <td>3</td>\n",
       "      <td>277</td>\n",
       "      <td>1341</td>\n",
       "      <td>False</td>\n",
       "      <td>2021-10-06 12:05:04+00:00</td>\n",
       "      <td>//Blood on 1st slide\\nI'm joining the squidgam...</td>\n",
       "      <td>Twitter Web App</td>\n",
       "      <td>False</td>\n",
       "      <td>-0.200</td>\n",
       "      <td>0.400000</td>\n",
       "    </tr>\n",
       "    <tr>\n",
       "      <th>4</th>\n",
       "      <td>Laura Reactions</td>\n",
       "      <td>France</td>\n",
       "      <td>I talk and I make reactions videos about shows...</td>\n",
       "      <td>2018-12-19 20:38:28+00:00</td>\n",
       "      <td>330</td>\n",
       "      <td>152</td>\n",
       "      <td>2278</td>\n",
       "      <td>False</td>\n",
       "      <td>2021-10-06 12:05:00+00:00</td>\n",
       "      <td>The two first games, players were killed by th...</td>\n",
       "      <td>Twitter Web App</td>\n",
       "      <td>False</td>\n",
       "      <td>-0.225</td>\n",
       "      <td>0.272222</td>\n",
       "    </tr>\n",
       "  </tbody>\n",
       "</table>\n",
       "</div>"
      ],
      "text/plain": [
       "                    user_name  user_location  \\\n",
       "0         the _ndr-ratd niggh            nan   \n",
       "1  Best uncle on planet earth            nan   \n",
       "2                      marcie            nan   \n",
       "3                    YoMo.Mdp  Any pronouns    \n",
       "4             Laura Reactions         France   \n",
       "\n",
       "                                    user_description  \\\n",
       "0  @ManUtd die hard\\n\\n\\nYOLO\\n\\n\\nJ'ai besoin de...   \n",
       "1                                                nan   \n",
       "2  animal crossing. chicken nuggets. baby yoda. s...   \n",
       "3  Where the heck is the karma\\nI'm going on my s...   \n",
       "4  I talk and I make reactions videos about shows...   \n",
       "\n",
       "                user_created user_followers user_friends user_favourites  \\\n",
       "0  2019-09-06 19:24:57+00:00            581         1035            8922   \n",
       "1  2013-05-08 19:35:26+00:00            741          730            8432   \n",
       "2  2009-02-21 10:31:30+00:00            562         1197           62732   \n",
       "3  2021-02-14 13:21:22+00:00              3          277            1341   \n",
       "4  2018-12-19 20:38:28+00:00            330          152            2278   \n",
       "\n",
       "  user_verified                       date  \\\n",
       "0         False  2021-10-06 12:05:38+00:00   \n",
       "1         False  2021-10-06 12:05:22+00:00   \n",
       "2         False  2021-10-06 12:05:22+00:00   \n",
       "3         False  2021-10-06 12:05:04+00:00   \n",
       "4         False  2021-10-06 12:05:00+00:00   \n",
       "\n",
       "                                                text               source  \\\n",
       "0  When life hits and the same time poverty strik...  Twitter for Android   \n",
       "1     That marble episode of #SquidGame  ruined me.   Twitter for Android   \n",
       "2                                    #Squidgame time      Twitter Web App   \n",
       "3  //Blood on 1st slide\\nI'm joining the squidgam...      Twitter Web App   \n",
       "4  The two first games, players were killed by th...      Twitter Web App   \n",
       "\n",
       "  is_retweet  polarity  subjectivity  \n",
       "0      False    -0.200      0.262500  \n",
       "1      False     0.000      0.000000  \n",
       "2      False     0.000      0.000000  \n",
       "3      False    -0.200      0.400000  \n",
       "4      False    -0.225      0.272222  "
      ]
     },
     "execution_count": 6,
     "metadata": {},
     "output_type": "execute_result"
    }
   ],
   "source": [
    "df[['polarity', 'subjectivity']] = df['text'].apply(lambda Text: pd.Series(TextBlob(Text).sentiment))\n",
    "df.head()"
   ]
  },
  {
   "cell_type": "code",
   "execution_count": 7,
   "id": "b1827237",
   "metadata": {
    "execution": {
     "iopub.execute_input": "2022-09-05T10:27:22.901975Z",
     "iopub.status.busy": "2022-09-05T10:27:22.900836Z",
     "iopub.status.idle": "2022-09-05T10:27:22.936176Z",
     "shell.execute_reply": "2022-09-05T10:27:22.935011Z"
    },
    "papermill": {
     "duration": 0.044648,
     "end_time": "2022-09-05T10:27:22.938852",
     "exception": false,
     "start_time": "2022-09-05T10:27:22.894204",
     "status": "completed"
    },
    "tags": []
   },
   "outputs": [],
   "source": [
    "l=[]\n",
    "for i in df[\"polarity\"]:\n",
    "    if(i > 0.5):\n",
    "        l.append('Positive')\n",
    "    elif(i < 0.5):\n",
    "        l.append('Negative')\n",
    "    else:\n",
    "        l.append('Neutral')\n",
    "df[\"Sentiment\"]=l"
   ]
  },
  {
   "cell_type": "code",
   "execution_count": 8,
   "id": "48bfec49",
   "metadata": {
    "execution": {
     "iopub.execute_input": "2022-09-05T10:27:22.951811Z",
     "iopub.status.busy": "2022-09-05T10:27:22.951052Z",
     "iopub.status.idle": "2022-09-05T10:27:25.974548Z",
     "shell.execute_reply": "2022-09-05T10:27:25.973404Z"
    },
    "papermill": {
     "duration": 3.033034,
     "end_time": "2022-09-05T10:27:25.977283",
     "exception": false,
     "start_time": "2022-09-05T10:27:22.944249",
     "status": "completed"
    },
    "tags": []
   },
   "outputs": [
    {
     "data": {
      "text/plain": [
       "0    When life hits time poverty strikes Gong Yoo :...\n",
       "1            That marble episode #SquidGame ruined me.\n",
       "2                                      #Squidgame time\n",
       "3    //Blood 1st slide I'm joining squidgame thing,...\n",
       "4    The two first games, players killed mask guys ...\n",
       "Name: text, dtype: object"
      ]
     },
     "execution_count": 8,
     "metadata": {},
     "output_type": "execute_result"
    }
   ],
   "source": [
    "stop = stopwords.words('english')\n",
    "df['text'] = df['text'].apply(lambda x: ' '.join([word for word in x.split() if word not in (stop)]))\n",
    "df['text'].head()"
   ]
  },
  {
   "cell_type": "code",
   "execution_count": 9,
   "id": "25d31426",
   "metadata": {
    "execution": {
     "iopub.execute_input": "2022-09-05T10:27:25.990798Z",
     "iopub.status.busy": "2022-09-05T10:27:25.990015Z",
     "iopub.status.idle": "2022-09-05T10:27:25.995512Z",
     "shell.execute_reply": "2022-09-05T10:27:25.994294Z"
    },
    "papermill": {
     "duration": 0.015117,
     "end_time": "2022-09-05T10:27:25.997974",
     "exception": false,
     "start_time": "2022-09-05T10:27:25.982857",
     "status": "completed"
    },
    "tags": []
   },
   "outputs": [],
   "source": [
    "pd.set_option('display.max_colwidth',1000)"
   ]
  },
  {
   "cell_type": "code",
   "execution_count": 10,
   "id": "b0157ff2",
   "metadata": {
    "execution": {
     "iopub.execute_input": "2022-09-05T10:27:26.011074Z",
     "iopub.status.busy": "2022-09-05T10:27:26.010103Z",
     "iopub.status.idle": "2022-09-05T10:27:26.077567Z",
     "shell.execute_reply": "2022-09-05T10:27:26.076359Z"
    },
    "papermill": {
     "duration": 0.076744,
     "end_time": "2022-09-05T10:27:26.080185",
     "exception": false,
     "start_time": "2022-09-05T10:27:26.003441",
     "status": "completed"
    },
    "tags": []
   },
   "outputs": [
    {
     "data": {
      "text/html": [
       "<div>\n",
       "<style scoped>\n",
       "    .dataframe tbody tr th:only-of-type {\n",
       "        vertical-align: middle;\n",
       "    }\n",
       "\n",
       "    .dataframe tbody tr th {\n",
       "        vertical-align: top;\n",
       "    }\n",
       "\n",
       "    .dataframe thead th {\n",
       "        text-align: right;\n",
       "    }\n",
       "</style>\n",
       "<table border=\"1\" class=\"dataframe\">\n",
       "  <thead>\n",
       "    <tr style=\"text-align: right;\">\n",
       "      <th></th>\n",
       "      <th>text</th>\n",
       "      <th>Sentiment</th>\n",
       "    </tr>\n",
       "  </thead>\n",
       "  <tbody>\n",
       "    <tr>\n",
       "      <th>0</th>\n",
       "      <td>When life hits time poverty strikes Gong Yoo : Lets play game #SquidGame #Netflix https://t.co/Cx7ifmZ8cN</td>\n",
       "      <td>Negative</td>\n",
       "    </tr>\n",
       "    <tr>\n",
       "      <th>1</th>\n",
       "      <td>That marble episode #SquidGame ruined me.</td>\n",
       "      <td>Negative</td>\n",
       "    </tr>\n",
       "    <tr>\n",
       "      <th>2</th>\n",
       "      <td>#Squidgame time</td>\n",
       "      <td>Negative</td>\n",
       "    </tr>\n",
       "    <tr>\n",
       "      <th>3</th>\n",
       "      <td>//Blood 1st slide I'm joining squidgame thing, I'm already dead sugar honeycomb ofc #SquidGame https://t.co/N4UGv9hxx8</td>\n",
       "      <td>Negative</td>\n",
       "    </tr>\n",
       "    <tr>\n",
       "      <th>4</th>\n",
       "      <td>The two first games, players killed mask guys ; bloody night third game, killed https://t.co/Qf057XDJ7C</td>\n",
       "      <td>Negative</td>\n",
       "    </tr>\n",
       "  </tbody>\n",
       "</table>\n",
       "</div>"
      ],
      "text/plain": [
       "                                                                                                                     text  \\\n",
       "0               When life hits time poverty strikes Gong Yoo : Lets play game #SquidGame #Netflix https://t.co/Cx7ifmZ8cN   \n",
       "1                                                                               That marble episode #SquidGame ruined me.   \n",
       "2                                                                                                         #Squidgame time   \n",
       "3  //Blood 1st slide I'm joining squidgame thing, I'm already dead sugar honeycomb ofc #SquidGame https://t.co/N4UGv9hxx8   \n",
       "4                 The two first games, players killed mask guys ; bloody night third game, killed https://t.co/Qf057XDJ7C   \n",
       "\n",
       "  Sentiment  \n",
       "0  Negative  \n",
       "1  Negative  \n",
       "2  Negative  \n",
       "3  Negative  \n",
       "4  Negative  "
      ]
     },
     "execution_count": 10,
     "metadata": {},
     "output_type": "execute_result"
    }
   ],
   "source": [
    "df[['text','Sentiment']].head()"
   ]
  },
  {
   "cell_type": "code",
   "execution_count": 11,
   "id": "c1644b5c",
   "metadata": {
    "execution": {
     "iopub.execute_input": "2022-09-05T10:27:26.093141Z",
     "iopub.status.busy": "2022-09-05T10:27:26.092577Z",
     "iopub.status.idle": "2022-09-05T10:27:26.099016Z",
     "shell.execute_reply": "2022-09-05T10:27:26.097680Z"
    },
    "papermill": {
     "duration": 0.015752,
     "end_time": "2022-09-05T10:27:26.101574",
     "exception": false,
     "start_time": "2022-09-05T10:27:26.085822",
     "status": "completed"
    },
    "tags": []
   },
   "outputs": [],
   "source": [
    "def design_main():\n",
    "    plt.xticks(rotation=0)\n",
    "    plt.title('Number and Type of comments in dataset', color = 'red')\n",
    "    plt.xlabel('Sentiment Count', color = 'red')\n",
    "    plt.ylabel('Count', color = 'red')"
   ]
  },
  {
   "cell_type": "code",
   "execution_count": 12,
   "id": "eb161b03",
   "metadata": {
    "execution": {
     "iopub.execute_input": "2022-09-05T10:27:26.114938Z",
     "iopub.status.busy": "2022-09-05T10:27:26.114098Z",
     "iopub.status.idle": "2022-09-05T10:27:26.389768Z",
     "shell.execute_reply": "2022-09-05T10:27:26.388906Z"
    },
    "papermill": {
     "duration": 0.284871,
     "end_time": "2022-09-05T10:27:26.392010",
     "exception": false,
     "start_time": "2022-09-05T10:27:26.107139",
     "status": "completed"
    },
    "tags": []
   },
   "outputs": [
    {
     "name": "stdout",
     "output_type": "stream",
     "text": [
      "Negative    70495\n",
      "Positive     6516\n",
      "Neutral      3008\n",
      "Name: Sentiment, dtype: int64\n"
     ]
    },
    {
     "data": {
      "image/png": "[encoded data removed]",
      "text/plain": [
       "<Figure size 432x288 with 1 Axes>"
      ]
     },
     "metadata": {
      "needs_background": "light"
     },
     "output_type": "display_data"
    }
   ],
   "source": [
    "print(df['Sentiment'].value_counts())\n",
    "\n",
    "df.Sentiment.value_counts().plot(kind ='bar', color =['g','r','c'])\n",
    "design_main()"
   ]
  },
  {
   "cell_type": "code",
   "execution_count": 13,
   "id": "7726097d",
   "metadata": {
    "_kg_hide-input": false,
    "execution": {
     "iopub.execute_input": "2022-09-05T10:27:26.406944Z",
     "iopub.status.busy": "2022-09-05T10:27:26.405720Z",
     "iopub.status.idle": "2022-09-05T10:27:26.706935Z",
     "shell.execute_reply": "2022-09-05T10:27:26.705896Z"
    },
    "papermill": {
     "duration": 0.311357,
     "end_time": "2022-09-05T10:27:26.709403",
     "exception": false,
     "start_time": "2022-09-05T10:27:26.398046",
     "status": "completed"
    },
    "tags": []
   },
   "outputs": [
    {
     "data": {
      "text/plain": [
       "[('#SquidGame', 50371),\n",
       " ('I', 18892),\n",
       " ('Squid', 8172),\n",
       " ('#squidgame', 7931),\n",
       " ('Game', 5615),\n",
       " ('The', 5050),\n",
       " ('game', 4914),\n",
       " ('.', 4057),\n",
       " ('like', 3488),\n",
       " ('watching', 3376)]"
      ]
     },
     "execution_count": 13,
     "metadata": {},
     "output_type": "execute_result"
    }
   ],
   "source": [
    "from collections import Counter\n",
    "Counter(\" \".join(df[\"text\"]).split()).most_common(10)"
   ]
  },
  {
   "cell_type": "code",
   "execution_count": 14,
   "id": "41291b4c",
   "metadata": {
    "execution": {
     "iopub.execute_input": "2022-09-05T10:27:26.723709Z",
     "iopub.status.busy": "2022-09-05T10:27:26.722932Z",
     "iopub.status.idle": "2022-09-05T10:27:27.670114Z",
     "shell.execute_reply": "2022-09-05T10:27:27.669159Z"
    },
    "papermill": {
     "duration": 0.957643,
     "end_time": "2022-09-05T10:27:27.673318",
     "exception": false,
     "start_time": "2022-09-05T10:27:26.715675",
     "status": "completed"
    },
    "tags": []
   },
   "outputs": [
    {
     "data": {
      "image/png": "[encoded data removed]",
      "text/plain": [
       "<Figure size 576x576 with 1 Axes>"
      ]
     },
     "metadata": {
      "needs_background": "light"
     },
     "output_type": "display_data"
    }
   ],
   "source": [
    "df = pd.read_csv('../input/squid-games-tweets-dataset-for-preprocessing/tweet.csv')\n",
    "\n",
    "text = df['text'].values \n",
    "\n",
    "wordcloud2 = WordCloud().generate(str(text))\n",
    "\n",
    "plt.figure(figsize = (8, 8), facecolor = None) \n",
    "plt.imshow(wordcloud2)\n",
    "plt.axis(\"off\")\n",
    "plt.show()"
   ]
  },
  {
   "cell_type": "code",
   "execution_count": null,
   "id": "101e683d",
   "metadata": {
    "papermill": {
     "duration": 0.007388,
     "end_time": "2022-09-05T10:27:27.688590",
     "exception": false,
     "start_time": "2022-09-05T10:27:27.681202",
     "status": "completed"
    },
    "tags": []
   },
   "outputs": [],
   "source": []
  }
 ],
 "metadata": {
  "kernelspec": {
   "display_name": "Python 3",
   "language": "python",
   "name": "python3"
  },
  "language_info": {
   "codemirror_mode": {
    "name": "ipython",
    "version": 3
   },
   "file_extension": ".py",
   "mimetype": "text/x-python",
   "name": "python",
   "nbconvert_exporter": "python",
   "pygments_lexer": "ipython3",
   "version": "3.7.12"
  },
  "papermill": {
   "default_parameters": {},
   "duration": 64.769415,
   "end_time": "2022-09-05T10:27:28.619456",
   "environment_variables": {},
   "exception": null,
   "input_path": "__notebook__.ipynb",
   "output_path": "__notebook__.ipynb",
   "parameters": {},
   "start_time": "2022-09-05T10:26:23.850041",
   "version": "2.3.4"
  }
 },
 "nbformat": 4,
 "nbformat_minor": 5
}
